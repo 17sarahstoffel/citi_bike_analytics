{
 "cells": [
  {
   "cell_type": "code",
   "execution_count": 1,
   "id": "e7aff506",
   "metadata": {},
   "outputs": [],
   "source": [
    "#Dependencies\n",
    "import os\n",
    "import numpy as np\n",
    "import pandas as pd"
   ]
  },
  {
   "cell_type": "code",
   "execution_count": 2,
   "id": "82fe58d0",
   "metadata": {},
   "outputs": [],
   "source": [
    "#import csv data\n",
    "sept =pd.read_csv('Data/JC-202209-citibike-tripdata.csv',)\n",
    "aug = pd.read_csv('Data/JC-202208-citibike-tripdata.csv',)\n",
    "jul = pd.read_csv('Data/JC-202207-citbike-tripdata.csv',)\n",
    "jun = pd.read_csv('Data/JC-202206-citibike-tripdata.csv',)\n",
    "may = pd.read_csv('Data/JC-202205-citibike-tripdata.csv',)\n"
   ]
  },
  {
   "cell_type": "code",
   "execution_count": 10,
   "id": "d5ec64fd",
   "metadata": {},
   "outputs": [
    {
     "data": {
      "text/plain": [
       "ride_id               103895\n",
       "rideable_type         103895\n",
       "started_at            103895\n",
       "ended_at              103895\n",
       "start_station_name    103895\n",
       "start_station_id      103895\n",
       "end_station_name      103895\n",
       "end_station_id        103895\n",
       "start_lat             103895\n",
       "start_lng             103895\n",
       "end_lat               103895\n",
       "end_lng               103895\n",
       "member_casual         103895\n",
       "dtype: int64"
      ]
     },
     "execution_count": 10,
     "metadata": {},
     "output_type": "execute_result"
    }
   ],
   "source": [
    "#drop any rows with missing data for September\n",
    "sept = sept.dropna(how='any')\n",
    "\n",
    "sept.count()"
   ]
  },
  {
   "cell_type": "code",
   "execution_count": 13,
   "id": "b7db65cd",
   "metadata": {},
   "outputs": [
    {
     "data": {
      "text/plain": [
       "ride_id               114840\n",
       "rideable_type         114840\n",
       "started_at            114840\n",
       "ended_at              114840\n",
       "start_station_name    114840\n",
       "start_station_id      114840\n",
       "end_station_name      114840\n",
       "end_station_id        114840\n",
       "start_lat             114840\n",
       "start_lng             114840\n",
       "end_lat               114840\n",
       "end_lng               114840\n",
       "member_casual         114840\n",
       "dtype: int64"
      ]
     },
     "execution_count": 13,
     "metadata": {},
     "output_type": "execute_result"
    }
   ],
   "source": [
    "#drop any rows with missing data for August\n",
    "aug = aug.dropna(how='any')\n",
    "\n",
    "aug.count()"
   ]
  },
  {
   "cell_type": "code",
   "execution_count": 15,
   "id": "2c32fd39",
   "metadata": {},
   "outputs": [
    {
     "data": {
      "text/plain": [
       "ride_id               108115\n",
       "rideable_type         108115\n",
       "started_at            108115\n",
       "ended_at              108115\n",
       "start_station_name    108115\n",
       "start_station_id      108115\n",
       "end_station_name      108115\n",
       "end_station_id        108115\n",
       "start_lat             108115\n",
       "start_lng             108115\n",
       "end_lat               108115\n",
       "end_lng               108115\n",
       "member_casual         108115\n",
       "dtype: int64"
      ]
     },
     "execution_count": 15,
     "metadata": {},
     "output_type": "execute_result"
    }
   ],
   "source": [
    "#drop any rows with missing data for July\n",
    "jul = jul.dropna(how='any')\n",
    "\n",
    "jul.count()"
   ]
  },
  {
   "cell_type": "code",
   "execution_count": 17,
   "id": "016f519f",
   "metadata": {},
   "outputs": [
    {
     "data": {
      "text/plain": [
       "ride_id               102985\n",
       "rideable_type         102985\n",
       "started_at            102985\n",
       "ended_at              102985\n",
       "start_station_name    102985\n",
       "start_station_id      102985\n",
       "end_station_name      102985\n",
       "end_station_id        102985\n",
       "start_lat             102985\n",
       "start_lng             102985\n",
       "end_lat               102985\n",
       "end_lng               102985\n",
       "member_casual         102985\n",
       "dtype: int64"
      ]
     },
     "execution_count": 17,
     "metadata": {},
     "output_type": "execute_result"
    }
   ],
   "source": [
    "#drop any rows with missing data for June\n",
    "jun = jun.dropna(how='any')\n",
    "\n",
    "jun.count()"
   ]
  },
  {
   "cell_type": "code",
   "execution_count": 19,
   "id": "23484460",
   "metadata": {},
   "outputs": [
    {
     "data": {
      "text/plain": [
       "ride_id               80296\n",
       "rideable_type         80296\n",
       "started_at            80296\n",
       "ended_at              80296\n",
       "start_station_name    80296\n",
       "start_station_id      80296\n",
       "end_station_name      80296\n",
       "end_station_id        80296\n",
       "start_lat             80296\n",
       "start_lng             80296\n",
       "end_lat               80296\n",
       "end_lng               80296\n",
       "member_casual         80296\n",
       "dtype: int64"
      ]
     },
     "execution_count": 19,
     "metadata": {},
     "output_type": "execute_result"
    }
   ],
   "source": [
    "#drop any rows with missing data for May\n",
    "may = may.dropna(how='any')\n",
    "\n",
    "may.count()"
   ]
  },
  {
   "cell_type": "code",
   "execution_count": 20,
   "id": "df90a5f8",
   "metadata": {},
   "outputs": [
    {
     "data": {
      "text/html": [
       "<div>\n",
       "<style scoped>\n",
       "    .dataframe tbody tr th:only-of-type {\n",
       "        vertical-align: middle;\n",
       "    }\n",
       "\n",
       "    .dataframe tbody tr th {\n",
       "        vertical-align: top;\n",
       "    }\n",
       "\n",
       "    .dataframe thead th {\n",
       "        text-align: right;\n",
       "    }\n",
       "</style>\n",
       "<table border=\"1\" class=\"dataframe\">\n",
       "  <thead>\n",
       "    <tr style=\"text-align: right;\">\n",
       "      <th></th>\n",
       "      <th>ride_id</th>\n",
       "      <th>rideable_type</th>\n",
       "      <th>started_at</th>\n",
       "      <th>ended_at</th>\n",
       "      <th>start_station_name</th>\n",
       "      <th>start_station_id</th>\n",
       "      <th>end_station_name</th>\n",
       "      <th>end_station_id</th>\n",
       "      <th>start_lat</th>\n",
       "      <th>start_lng</th>\n",
       "      <th>end_lat</th>\n",
       "      <th>end_lng</th>\n",
       "      <th>member_casual</th>\n",
       "    </tr>\n",
       "  </thead>\n",
       "  <tbody>\n",
       "    <tr>\n",
       "      <th>0</th>\n",
       "      <td>FC9EB68D6501F079</td>\n",
       "      <td>electric_bike</td>\n",
       "      <td>2022-05-15 14:02:06</td>\n",
       "      <td>2022-05-15 14:05:44</td>\n",
       "      <td>Hoboken Terminal - Hudson St &amp; Hudson Pl</td>\n",
       "      <td>HB101</td>\n",
       "      <td>Hudson St &amp; 4 St</td>\n",
       "      <td>HB607</td>\n",
       "      <td>40.735938</td>\n",
       "      <td>-74.030305</td>\n",
       "      <td>40.740973</td>\n",
       "      <td>-74.028603</td>\n",
       "      <td>member</td>\n",
       "    </tr>\n",
       "    <tr>\n",
       "      <th>1</th>\n",
       "      <td>932A2D5E45ACED5B</td>\n",
       "      <td>electric_bike</td>\n",
       "      <td>2022-05-13 15:30:14</td>\n",
       "      <td>2022-05-13 15:33:03</td>\n",
       "      <td>Hoboken Terminal - Hudson St &amp; Hudson Pl</td>\n",
       "      <td>HB101</td>\n",
       "      <td>Hudson St &amp; 4 St</td>\n",
       "      <td>HB607</td>\n",
       "      <td>40.735938</td>\n",
       "      <td>-74.030305</td>\n",
       "      <td>40.740973</td>\n",
       "      <td>-74.028603</td>\n",
       "      <td>casual</td>\n",
       "    </tr>\n",
       "    <tr>\n",
       "      <th>2</th>\n",
       "      <td>8C0CD371C7A5795C</td>\n",
       "      <td>electric_bike</td>\n",
       "      <td>2022-05-31 20:41:39</td>\n",
       "      <td>2022-05-31 22:04:47</td>\n",
       "      <td>Hoboken Terminal - Hudson St &amp; Hudson Pl</td>\n",
       "      <td>HB101</td>\n",
       "      <td>South Waterfront Walkway - Sinatra Dr &amp; 1 St</td>\n",
       "      <td>HB103</td>\n",
       "      <td>40.735938</td>\n",
       "      <td>-74.030305</td>\n",
       "      <td>40.736982</td>\n",
       "      <td>-74.027781</td>\n",
       "      <td>casual</td>\n",
       "    </tr>\n",
       "    <tr>\n",
       "      <th>4</th>\n",
       "      <td>0B0F776B55C85AB8</td>\n",
       "      <td>classic_bike</td>\n",
       "      <td>2022-05-26 16:49:12</td>\n",
       "      <td>2022-05-26 16:57:01</td>\n",
       "      <td>Hoboken Terminal - Hudson St &amp; Hudson Pl</td>\n",
       "      <td>HB101</td>\n",
       "      <td>Hoboken Ave at Monmouth St</td>\n",
       "      <td>JC105</td>\n",
       "      <td>40.735938</td>\n",
       "      <td>-74.030305</td>\n",
       "      <td>40.735208</td>\n",
       "      <td>-74.046964</td>\n",
       "      <td>member</td>\n",
       "    </tr>\n",
       "    <tr>\n",
       "      <th>5</th>\n",
       "      <td>7F26419866A3BE99</td>\n",
       "      <td>electric_bike</td>\n",
       "      <td>2022-05-23 16:45:16</td>\n",
       "      <td>2022-05-23 16:51:01</td>\n",
       "      <td>Hoboken Terminal - Hudson St &amp; Hudson Pl</td>\n",
       "      <td>HB101</td>\n",
       "      <td>Hoboken Ave at Monmouth St</td>\n",
       "      <td>JC105</td>\n",
       "      <td>40.735938</td>\n",
       "      <td>-74.030305</td>\n",
       "      <td>40.735208</td>\n",
       "      <td>-74.046964</td>\n",
       "      <td>casual</td>\n",
       "    </tr>\n",
       "  </tbody>\n",
       "</table>\n",
       "</div>"
      ],
      "text/plain": [
       "            ride_id  rideable_type           started_at             ended_at  \\\n",
       "0  FC9EB68D6501F079  electric_bike  2022-05-15 14:02:06  2022-05-15 14:05:44   \n",
       "1  932A2D5E45ACED5B  electric_bike  2022-05-13 15:30:14  2022-05-13 15:33:03   \n",
       "2  8C0CD371C7A5795C  electric_bike  2022-05-31 20:41:39  2022-05-31 22:04:47   \n",
       "4  0B0F776B55C85AB8   classic_bike  2022-05-26 16:49:12  2022-05-26 16:57:01   \n",
       "5  7F26419866A3BE99  electric_bike  2022-05-23 16:45:16  2022-05-23 16:51:01   \n",
       "\n",
       "                         start_station_name start_station_id  \\\n",
       "0  Hoboken Terminal - Hudson St & Hudson Pl            HB101   \n",
       "1  Hoboken Terminal - Hudson St & Hudson Pl            HB101   \n",
       "2  Hoboken Terminal - Hudson St & Hudson Pl            HB101   \n",
       "4  Hoboken Terminal - Hudson St & Hudson Pl            HB101   \n",
       "5  Hoboken Terminal - Hudson St & Hudson Pl            HB101   \n",
       "\n",
       "                               end_station_name end_station_id  start_lat  \\\n",
       "0                              Hudson St & 4 St          HB607  40.735938   \n",
       "1                              Hudson St & 4 St          HB607  40.735938   \n",
       "2  South Waterfront Walkway - Sinatra Dr & 1 St          HB103  40.735938   \n",
       "4                    Hoboken Ave at Monmouth St          JC105  40.735938   \n",
       "5                    Hoboken Ave at Monmouth St          JC105  40.735938   \n",
       "\n",
       "   start_lng    end_lat    end_lng member_casual  \n",
       "0 -74.030305  40.740973 -74.028603        member  \n",
       "1 -74.030305  40.740973 -74.028603        casual  \n",
       "2 -74.030305  40.736982 -74.027781        casual  \n",
       "4 -74.030305  40.735208 -74.046964        member  \n",
       "5 -74.030305  40.735208 -74.046964        casual  "
      ]
     },
     "execution_count": 20,
     "metadata": {},
     "output_type": "execute_result"
    }
   ],
   "source": []
  },
  {
   "cell_type": "code",
   "execution_count": 21,
   "id": "8a352a28",
   "metadata": {},
   "outputs": [],
   "source": [
    "cleaned_data = pd.concat([may, jun, jul, aug, sept], ignore_index=True)"
   ]
  },
  {
   "cell_type": "code",
   "execution_count": 23,
   "id": "7d362a41",
   "metadata": {},
   "outputs": [
    {
     "data": {
      "text/plain": [
       "ride_id               510131\n",
       "rideable_type         510131\n",
       "started_at            510131\n",
       "ended_at              510131\n",
       "start_station_name    510131\n",
       "start_station_id      510131\n",
       "end_station_name      510131\n",
       "end_station_id        510131\n",
       "start_lat             510131\n",
       "start_lng             510131\n",
       "end_lat               510131\n",
       "end_lng               510131\n",
       "member_casual         510131\n",
       "dtype: int64"
      ]
     },
     "execution_count": 23,
     "metadata": {},
     "output_type": "execute_result"
    }
   ],
   "source": [
    "cleaned_data.count()"
   ]
  },
  {
   "cell_type": "code",
   "execution_count": 24,
   "id": "148fda87",
   "metadata": {},
   "outputs": [],
   "source": [
    "cleaned_data.to_csv(\"Data/cleaned_data.csv\", index=False, encoding=\"ISO-8859-1\")"
   ]
  },
  {
   "cell_type": "code",
   "execution_count": null,
   "id": "6c86808c",
   "metadata": {},
   "outputs": [],
   "source": []
  }
 ],
 "metadata": {
  "kernelspec": {
   "display_name": "Python 3 (ipykernel)",
   "language": "python",
   "name": "python3"
  },
  "language_info": {
   "codemirror_mode": {
    "name": "ipython",
    "version": 3
   },
   "file_extension": ".py",
   "mimetype": "text/x-python",
   "name": "python",
   "nbconvert_exporter": "python",
   "pygments_lexer": "ipython3",
   "version": "3.8.13"
  }
 },
 "nbformat": 4,
 "nbformat_minor": 5
}
